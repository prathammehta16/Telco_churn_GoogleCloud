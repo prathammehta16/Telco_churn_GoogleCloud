{
 "cells": [
  {
   "cell_type": "code",
   "execution_count": 1,
   "id": "f6fa2517-2150-4b17-b203-e414beb52d5c",
   "metadata": {},
   "outputs": [
    {
     "name": "stdout",
     "output_type": "stream",
     "text": [
      "Writing predictor.py\n"
     ]
    }
   ],
   "source": [
    "%%writefile predictor.py\n",
    "\n",
    "import os\n",
    "\n",
    "import numpy as np\n",
    "import joblib\n",
    "import pandas as pd\n",
    "\n",
    "class ChurnPredictor(object):\n",
    "\n",
    "  _COLUMN_NAMES=['customerID', 'gender', 'SeniorCitizen', 'Partner', 'Dependents', 'tenure', 'PhoneService', 'MultipleLines', 'InternetService', 'OnlineSecurity', 'OnlineBackup', 'DeviceProtection', 'TechSupport', 'StreamingTV', 'StreamingMovies', 'Contract', 'PaperlessBilling','PaymentMethod', 'MonthlyCharges', 'TotalCharges']\n",
    "\n",
    "  def __init__(self, model):\n",
    "    self._model = model\n",
    "\n",
    "  def predict(self, instances, **kwargs):\n",
    "    inputs = pd.DataFrame(data=[instances], columns=self._COLUMN_NAMES)\n",
    "    outputs = self._model.predict(inputs)\n",
    "    return outputs.tolist()\n",
    "\n",
    "  @classmethod\n",
    "  def from_path(cls, model_dir):\n",
    "    model_path = os.path.join(model_dir, 'model.joblib')\n",
    "    model = joblib.load(model_path)\n",
    "    return cls(model)"
   ]
  },
  {
   "cell_type": "code",
   "execution_count": 2,
   "id": "418c513b-4381-49f3-a750-f31fdf1e68dd",
   "metadata": {},
   "outputs": [
    {
     "name": "stdout",
     "output_type": "stream",
     "text": [
      "[0]\n"
     ]
    }
   ],
   "source": [
    "from predictor import ChurnPredictor\n",
    "model = ChurnPredictor.from_path('.')\n",
    "instance = ['7317-GGVPB', 'Male', 0, 'Yes', 'No', 71, 'Yes', 'Yes', 'Fiber optic', 'No', 'Yes', 'Yes', 'Yes', 'Yes', 'Yes', 'Two year', 'Yes', 'Credit card (automatic)', 108.6, '7690.9']\n",
    "print(model.predict(instance))"
   ]
  },
  {
   "cell_type": "code",
   "execution_count": 3,
   "id": "7fd821ba-1e01-449a-bb37-0409c02eeff7",
   "metadata": {},
   "outputs": [
    {
     "name": "stdout",
     "output_type": "stream",
     "text": [
      "Writing setup.py\n"
     ]
    }
   ],
   "source": [
    "%%writefile setup.py\n",
    "from setuptools import setup\n",
    "from setuptools import find_packages\n",
    "\n",
    "REQUIRED_PACKAGES = ['xgboost==1.6.1']\n",
    "\n",
    "setup(\n",
    "    name='custom_predict',\n",
    "    version='0.1',\n",
    "    install_requires=REQUIRED_PACKAGES,\n",
    "    packages=find_packages(),\n",
    "    include_package_data=True,\n",
    "    scripts=['predictor.py'])"
   ]
  },
  {
   "cell_type": "code",
   "execution_count": 4,
   "id": "1c984362-0500-4aa8-bd68-afb169c7869e",
   "metadata": {},
   "outputs": [
    {
     "name": "stdout",
     "output_type": "stream",
     "text": [
      "running sdist\n",
      "running egg_info\n",
      "creating custom_predict.egg-info\n",
      "writing custom_predict.egg-info/PKG-INFO\n",
      "writing dependency_links to custom_predict.egg-info/dependency_links.txt\n",
      "writing requirements to custom_predict.egg-info/requires.txt\n",
      "writing top-level names to custom_predict.egg-info/top_level.txt\n",
      "writing manifest file 'custom_predict.egg-info/SOURCES.txt'\n",
      "reading manifest file 'custom_predict.egg-info/SOURCES.txt'\n",
      "writing manifest file 'custom_predict.egg-info/SOURCES.txt'\n",
      "warning: sdist: standard file not found: should have one of README, README.rst, README.txt, README.md\n",
      "\n",
      "running check\n",
      "creating custom_predict-0.1\n",
      "creating custom_predict-0.1/custom_predict.egg-info\n",
      "copying files to custom_predict-0.1...\n",
      "copying predictor.py -> custom_predict-0.1\n",
      "copying setup.py -> custom_predict-0.1\n",
      "copying custom_predict.egg-info/PKG-INFO -> custom_predict-0.1/custom_predict.egg-info\n",
      "copying custom_predict.egg-info/SOURCES.txt -> custom_predict-0.1/custom_predict.egg-info\n",
      "copying custom_predict.egg-info/dependency_links.txt -> custom_predict-0.1/custom_predict.egg-info\n",
      "copying custom_predict.egg-info/requires.txt -> custom_predict-0.1/custom_predict.egg-info\n",
      "copying custom_predict.egg-info/top_level.txt -> custom_predict-0.1/custom_predict.egg-info\n",
      "Writing custom_predict-0.1/setup.cfg\n",
      "creating dist\n",
      "Creating tar archive\n",
      "removing 'custom_predict-0.1' (and everything under it)\n"
     ]
    }
   ],
   "source": [
    "!python setup.py sdist --formats=gztar"
   ]
  },
  {
   "cell_type": "code",
   "execution_count": 6,
   "id": "c68e3178-6529-4594-ad3b-668a093fbf63",
   "metadata": {},
   "outputs": [
    {
     "name": "stdout",
     "output_type": "stream",
     "text": [
      "Copying file://./dist/custom_predict-0.1.tar.gz [Content-Type=application/x-tar]...\n",
      "/ [1 files][  1.1 KiB/  1.1 KiB]                                                \n",
      "Operation completed over 1 objects/1.1 KiB.                                      \n"
     ]
    }
   ],
   "source": [
    "!gsutil cp ./dist/custom_predict-0.1.tar.gz gs://churn-model-pra/custom_predict-0.1.tar.gz"
   ]
  },
  {
   "cell_type": "code",
   "execution_count": 7,
   "id": "a696194d-70a7-4612-a9c1-92ce54dff369",
   "metadata": {},
   "outputs": [
    {
     "name": "stdout",
     "output_type": "stream",
     "text": [
      "Using endpoint [https://ml.googleapis.com/]\n",
      "Created ai platform model [projects/solar-cycle-375406/models/ChurnPredictor5].\n"
     ]
    }
   ],
   "source": [
    "!gcloud beta ai-platform models create ChurnPredictor5 --regions us-central1 --enable-console-logging"
   ]
  },
  {
   "cell_type": "code",
   "execution_count": 8,
   "id": "84945f73-14d3-4890-a962-4699e8b00e01",
   "metadata": {},
   "outputs": [
    {
     "name": "stdout",
     "output_type": "stream",
     "text": [
      "Using endpoint [https://us-central1-ml.googleapis.com/]\n",
      "\u001b[1;31mERROR:\u001b[0m (gcloud.beta.ai-platform.versions.create) NOT_FOUND: Field: parent Error: The model resource: (858034440013, ChurnPredictor) was not found. Please create the model resource first by using 'gcloud ai-platform models create ChurnPredictor'.\n",
      "- '@type': type.googleapis.com/google.rpc.BadRequest\n",
      "  fieldViolations:\n",
      "  - description: \"The model resource: (858034440013, ChurnPredictor) was not found.\\\n",
      "      \\ Please create the model resource first by using 'gcloud ai-platform models\\\n",
      "      \\ create ChurnPredictor'.\"\n",
      "    field: parent\n"
     ]
    }
   ],
   "source": [
    "! gcloud --quiet beta ai-platform versions create V1 \\\n",
    "  --model ChurnPredictor \\\n",
    "  --runtime-version 2.9 \\\n",
    "  --python-version 3.7 \\\n",
    "  --origin gs://churn-model-pra/ \\\n",
    "  --package-uris gs://churn-model-pra/custom_predict-0.1.tar.gz \\\n",
    "  --prediction-class predictor.ChurnPredictor "
   ]
  },
  {
   "cell_type": "code",
   "execution_count": null,
   "id": "a3c10d42-b1fa-45dd-9334-b32402ee9d30",
   "metadata": {},
   "outputs": [],
   "source": []
  }
 ],
 "metadata": {
  "environment": {
   "kernel": "python3",
   "name": "common-cpu.m102",
   "type": "gcloud",
   "uri": "gcr.io/deeplearning-platform-release/base-cpu:m102"
  },
  "kernelspec": {
   "display_name": "Python 3",
   "language": "python",
   "name": "python3"
  },
  "language_info": {
   "codemirror_mode": {
    "name": "ipython",
    "version": 3
   },
   "file_extension": ".py",
   "mimetype": "text/x-python",
   "name": "python",
   "nbconvert_exporter": "python",
   "pygments_lexer": "ipython3",
   "version": "3.7.12"
  }
 },
 "nbformat": 4,
 "nbformat_minor": 5
}
